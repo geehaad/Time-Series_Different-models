{
 "cells": [
  {
   "cell_type": "markdown",
   "metadata": {},
   "source": [
    "<h1>Time Series</h1>"
   ]
  },
  {
   "cell_type": "markdown",
   "metadata": {},
   "source": [
    "<h2>The objective of this notebook is: </h2>\n",
    "<ol>\n",
    "<li>In the first part: understand Time series forecasting with ARIMA model in python, and fine tune the hyper-parameters to get the least possible error.</li>\n",
    "<li> In the second part: Apply CNN from scratch to the same dataset.</li>\n",
    "<li> Apply Facebook prophet to the same dataset.</li>\n",
    "</ol>"
   ]
  },
  {
   "cell_type": "markdown",
   "metadata": {},
   "source": [
    "<h2>The dataset</h2>\n",
    "\n",
    "Build a model to forecast the demand (passenger traffic) in Airplanes.<br> \n",
    "The data is classified in date/time and the passengers travelling per month"
   ]
  },
  {
   "cell_type": "markdown",
   "metadata": {},
   "source": [
    "<h2>What is Time series analysis?</h2>\n",
    "\n",
    "A. Time Series is a series of observations taken at specified time intervals usually equal intervals. <br>\n",
    " "
   ]
  },
  {
   "cell_type": "markdown",
   "metadata": {},
   "source": [
    "<h2>We don't need to apply Time series in atleast the following 2 cases:</h2>\n",
    "<ul>\n",
    "<li> \n",
    "a) The dependant variable(y) (that is supposed to vary with time) is constant.<br>\n",
    "    Eq: y=f(x)=4, a line parallel to x-axis(time) will always remain the same.</li> \n",
    "<li> b) The dependant variable(y) represent values that can be denoted as a mathematical function.<br> Eq: sin(x), log(x), Polynomials etc. Thus, we can directly get value at some time using the function itself. No need of forecasting.</li> \n",
    "    </ul>"
   ]
  },
  {
   "cell_type": "markdown",
   "metadata": {},
   "source": [
    "<h2>There are 4 componentsof Time Series:</h2>\n",
    "<ul>\n",
    "<li>\n",
    "a) Trend - Upward & downward movement of the data with time over a large period of time. Eq: Appreciation of Dollar vs rupee.</li>\n",
    "<li>b) Seasonality - seasonal variances. Eq: Ice cream sales increases in Summer only</li>\n",
    "<li>c) Noise or Irregularity - Spikes & troughs at random intervals</li>\n",
    "<li>d) Cyclicity - behavior that repeats itself after large interval of time, like months, years etc.</li>\n",
    "</ul>"
   ]
  },
  {
   "cell_type": "markdown",
   "metadata": {},
   "source": [
    "<h2>Why does Time Series(TS) need to be stationary?</h2>\n",
    "<h3>It is because of the following reasons:</h3>\n",
    "<ul>\n",
    "<li>a) If a TS has a particular behavior over a time interval, then there's a high probability that over a different interval, it will have same behavior, provided TS is stationary. This helps in forecasting accurately.</li>\n",
    "<li>b) Theories & Mathematical formulas ae more mature & easier to apply for as TS which is stationary.</li>\n",
    "</ul>"
   ]
  },
  {
   "cell_type": "markdown",
   "metadata": {},
   "source": [
    "<h2>Tests to check if a series is stationary or not</h2>\n",
    "<h3> There are 2 ways to check for Stationarity of a TS:</h3>\n",
    "<ul>\n",
    " <li>a) Rolling Statistics - Plot the moving avg or moving standard deviation to see if it varies with time. Its a visual technique.</li>\n",
    "<li>b) ADCF Test - Augmented Dickey–Fuller test is used to gives us various values that can help in identifying stationarity. The Null hypothesis says that a TS is non-stationary. It comprises of a Test Statistics & some critical values for some confidence levels. If the Test statistics is less than the critical values, we can reject the null hypothesis & say that the series is stationary. THE ADCF test also gives us a p-value. Acc to the null hypothesis, lower values of p is better.</li>\n",
    "     </ul>"
   ]
  },
  {
   "cell_type": "markdown",
   "metadata": {},
   "source": [
    "<h1>ARIMA(Auto Regressive Integrated Moving Average)</h1>\n",
    "\n",
    "<b>ARIMA </b>is a combination of 2 models AR(Auto Regressive) & MA(Moving Average). <br>\n",
    "<h3>It has 3 hyperparameters -</h3>\n",
    "<ul>\n",
    "<li>P (auto regressive lags),</li>\n",
    "<li>d (order of differentiation),</li>\n",
    "<li>Q (moving avg.) which respectively comes from the AR, I & MA components.</li>\n",
    "    </ul>\n",
    "The AR part is correlation between prev & current time periods. <br>To smooth out the noise, the MA part is used. <br>The I part binds together the AR & MA parts.\n"
   ]
  },
  {
   "cell_type": "markdown",
   "metadata": {},
   "source": [
    "<h1>Time Series with ARIMA</h1>\n"
   ]
  },
  {
   "cell_type": "code",
   "execution_count": null,
   "metadata": {},
   "outputs": [],
   "source": []
  }
 ],
 "metadata": {
  "kernelspec": {
   "display_name": "Python 3",
   "language": "python",
   "name": "python3"
  },
  "language_info": {
   "codemirror_mode": {
    "name": "ipython",
    "version": 3
   },
   "file_extension": ".py",
   "mimetype": "text/x-python",
   "name": "python",
   "nbconvert_exporter": "python",
   "pygments_lexer": "ipython3",
   "version": "3.8.5"
  }
 },
 "nbformat": 4,
 "nbformat_minor": 4
}
