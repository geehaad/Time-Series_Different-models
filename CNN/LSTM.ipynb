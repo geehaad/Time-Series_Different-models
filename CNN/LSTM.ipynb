{
 "cells": [
  {
   "cell_type": "markdown",
   "metadata": {},
   "source": [
    "<h1>Time Series</h1>"
   ]
  },
  {
   "cell_type": "markdown",
   "metadata": {},
   "source": [
    "<h2>The objective of this notebook is: </h2>\n",
    "<ol>\n",
    "<li>In the first part: understand Time series forecasting with ARIMA model in python, and fine tune the hyper-parameters to get the least possible error.</li>\n",
    "<li> In the second part: Apply CNN from scratch to the same dataset.</li>\n",
    "<li> Apply Facebook prophet to the same dataset.</li>\n",
    "</ol>"
   ]
  },
  {
   "cell_type": "markdown",
   "metadata": {},
   "source": [
    "<h2>The dataset</h2>\n",
    "\n",
    "Build a model to forecast the demand (passenger traffic) in Airplanes.<br> \n",
    "The data is classified in date/time and the passengers travelling per month"
   ]
  },
  {
   "cell_type": "markdown",
   "metadata": {},
   "source": [
    "<h2>What is Time series analysis?</h2>\n",
    "\n",
    "A. Time Series is a series of observations taken at specified time intervals usually equal intervals. <br>\n",
    " "
   ]
  },
  {
   "cell_type": "markdown",
   "metadata": {},
   "source": [
    "<h2>We don't need to apply Time series in atleast the following 2 cases:</h2>\n",
    "<ul>\n",
    "<li> \n",
    "a) The dependant variable(y) (that is supposed to vary with time) is constant.<br>\n",
    "    Eq: y=f(x)=4, a line parallel to x-axis(time) will always remain the same.</li> \n",
    "<li> b) The dependant variable(y) represent values that can be denoted as a mathematical function.<br> Eq: sin(x), log(x), Polynomials etc. Thus, we can directly get value at some time using the function itself. No need of forecasting.</li> \n",
    "    </ul>"
   ]
  },
  {
   "cell_type": "markdown",
   "metadata": {},
   "source": [
    "<h2>There are 4 componentsof Time Series:</h2>\n",
    "<ul>\n",
    "<li>\n",
    "a) Trend - Upward & downward movement of the data with time over a large period of time. Eq: Appreciation of Dollar vs rupee.</li>\n",
    "<li>b) Seasonality - seasonal variances. Eq: Ice cream sales increases in Summer only</li>\n",
    "<li>c) Noise or Irregularity - Spikes & troughs at random intervals</li>\n",
    "<li>d) Cyclicity - behavior that repeats itself after large interval of time, like months, years etc.</li>\n",
    "</ul>"
   ]
  },
  {
   "cell_type": "markdown",
   "metadata": {},
   "source": [
    "<h2>Why does Time Series(TS) need to be stationary?</h2>\n",
    "<h3>It is because of the following reasons:</h3>\n",
    "<ul>\n",
    "<li>a) If a TS has a particular behavior over a time interval, then there's a high probability that over a different interval, it will have same behavior, provided TS is stationary. This helps in forecasting accurately.</li>\n",
    "<li>b) Theories & Mathematical formulas ae more mature & easier to apply for as TS which is stationary.</li>\n",
    "</ul>"
   ]
  },
  {
   "cell_type": "markdown",
   "metadata": {},
   "source": [
    "<h2>Tests to check if a series is stationary or not</h2>\n",
    "<h3> There are 2 ways to check for Stationarity of a TS:</h3>\n",
    "<ul>\n",
    " <li>a) Rolling Statistics - Plot the moving avg or moving standard deviation to see if it varies with time. Its a visual technique.</li>\n",
    "<li>b) ADCF Test - Augmented Dickey–Fuller test is used to gives us various values that can help in identifying stationarity. The Null hypothesis says that a TS is non-stationary. It comprises of a Test Statistics & some critical values for some confidence levels. If the Test statistics is less than the critical values, we can reject the null hypothesis & say that the series is stationary. THE ADCF test also gives us a p-value. Acc to the null hypothesis, lower values of p is better.</li>\n",
    "     </ul>"
   ]
  },
  {
   "cell_type": "markdown",
   "metadata": {},
   "source": [
    "<h1> Time Searis usinf LSTM</h1>"
   ]
  },
  {
   "cell_type": "markdown",
   "metadata": {},
   "source": [
    "## 1- Load the data"
   ]
  },
  {
   "cell_type": "markdown",
   "metadata": {},
   "source": [
    "### Importing all the required libraries for analysis"
   ]
  },
  {
   "cell_type": "code",
   "execution_count": 1,
   "metadata": {},
   "outputs": [],
   "source": [
    "import numpy as np # linear algebra\n",
    "import pandas as pd # data processing, CSV file I/O (e.g. pd.read_csv)\n",
    "import warnings\n",
    "import itertools\n",
    "import numpy as np\n",
    "import random\n",
    "from statsmodels.tsa.stattools import adfuller\n",
    "\n",
    "import statsmodels.api as sm\n",
    "# prophet by Facebook\n",
    "# from fbprophet import Prophet\n",
    "# time series analysis\n",
    "from statsmodels.tsa.seasonal import seasonal_decompose\n",
    "from statsmodels.graphics.tsaplots import plot_acf, plot_pacf\n",
    "from sklearn.metrics import mean_squared_error, mean_absolute_error\n",
    "import matplotlib.pyplot as plt\n",
    "import seaborn as sns\n",
    "warnings.filterwarnings(\"ignore\")\n",
    "plt.style.use('fivethirtyeight')"
   ]
  },
  {
   "cell_type": "markdown",
   "metadata": {},
   "source": [
    "### Reading the dataset \n",
    " Creating the 'Date' as Index for data and viewing the dataset"
   ]
  },
  {
   "cell_type": "code",
   "execution_count": 2,
   "metadata": {},
   "outputs": [],
   "source": [
    "path = \"../Data/AirPassengers.csv\" \n",
    "df = pd.read_csv(path,parse_dates=[0])"
   ]
  },
  {
   "cell_type": "markdown",
   "metadata": {},
   "source": [
    "## 2- Preprocessing"
   ]
  },
  {
   "cell_type": "markdown",
   "metadata": {},
   "source": [
    "### convert from string to datetime"
   ]
  },
  {
   "cell_type": "code",
   "execution_count": 3,
   "metadata": {},
   "outputs": [
    {
     "data": {
      "text/html": [
       "<div>\n",
       "<style scoped>\n",
       "    .dataframe tbody tr th:only-of-type {\n",
       "        vertical-align: middle;\n",
       "    }\n",
       "\n",
       "    .dataframe tbody tr th {\n",
       "        vertical-align: top;\n",
       "    }\n",
       "\n",
       "    .dataframe thead th {\n",
       "        text-align: right;\n",
       "    }\n",
       "</style>\n",
       "<table border=\"1\" class=\"dataframe\">\n",
       "  <thead>\n",
       "    <tr style=\"text-align: right;\">\n",
       "      <th></th>\n",
       "      <th>#Passengers</th>\n",
       "    </tr>\n",
       "    <tr>\n",
       "      <th>Month</th>\n",
       "      <th></th>\n",
       "    </tr>\n",
       "  </thead>\n",
       "  <tbody>\n",
       "    <tr>\n",
       "      <th>1949-01-01</th>\n",
       "      <td>112</td>\n",
       "    </tr>\n",
       "    <tr>\n",
       "      <th>1949-02-01</th>\n",
       "      <td>118</td>\n",
       "    </tr>\n",
       "    <tr>\n",
       "      <th>1949-03-01</th>\n",
       "      <td>132</td>\n",
       "    </tr>\n",
       "    <tr>\n",
       "      <th>1949-04-01</th>\n",
       "      <td>129</td>\n",
       "    </tr>\n",
       "    <tr>\n",
       "      <th>1949-05-01</th>\n",
       "      <td>121</td>\n",
       "    </tr>\n",
       "  </tbody>\n",
       "</table>\n",
       "</div>"
      ],
      "text/plain": [
       "            #Passengers\n",
       "Month                  \n",
       "1949-01-01          112\n",
       "1949-02-01          118\n",
       "1949-03-01          132\n",
       "1949-04-01          129\n",
       "1949-05-01          121"
      ]
     },
     "execution_count": 3,
     "metadata": {},
     "output_type": "execute_result"
    }
   ],
   "source": [
    "df['Month'] = pd.to_datetime(df['Month'],infer_datetime_format=True)\n",
    "df = df.set_index(['Month'])\n",
    "df.head()"
   ]
  },
  {
   "cell_type": "markdown",
   "metadata": {},
   "source": [
    "### Visualizing the Time Series plot for the number of Air Passengers"
   ]
  },
  {
   "cell_type": "code",
   "execution_count": 4,
   "metadata": {},
   "outputs": [
    {
     "data": {
      "image/png": "[encoded data removed]",
      "text/plain": [
       "<Figure size 1440x504 with 1 Axes>"
      ]
     },
     "metadata": {},
     "output_type": "display_data"
    }
   ],
   "source": [
    "## Plot the Time series data\n",
    "fig, ax = plt.subplots(figsize=(20,7))\n",
    "a = sns.lineplot(x=\"Month\", y=\"#Passengers\", data=df)\n",
    "a.set_title(\"Number of air passengers\",fontsize=15)\n",
    "plt.show()"
   ]
  },
  {
   "cell_type": "markdown",
   "metadata": {},
   "source": [
    "<h2>Scaling the Data</h2>"
   ]
  },
  {
   "cell_type": "markdown",
   "metadata": {},
   "source": [
    "This means that you're transforming your data so that it fits within a specific scale, like 0-100 or 0-1. <br>\n",
    "You want to scale data when you're using methods based on measures of how far apart data points, like support vector machines, or SVM or k-nearest neighbors, or KNN."
   ]
  },
  {
   "cell_type": "markdown",
   "metadata": {},
   "source": [
    "<h2>Do I have to scale/normalize my training data for LSTM Classification, even if I only have one feature?</h2>\n",
    "\n",
    "It's still advisable to do so because your randomly initialised weights may not be able to get along with feature scale very well, and may cause the activations to saturate."
   ]
  },
  {
   "cell_type": "code",
   "execution_count": 5,
   "metadata": {},
   "outputs": [],
   "source": [
    "#data_Scaling\n",
    "from sklearn.preprocessing import MinMaxScaler\n",
    "\n",
    "scaler=MinMaxScaler(feature_range=(0,1))\n",
    "df=scaler.fit_transform(df)"
   ]
  },
  {
   "cell_type": "code",
   "execution_count": 6,
   "metadata": {},
   "outputs": [
    {
     "data": {
      "text/plain": [
       "array([[0.01544402],\n",
       "       [0.02702703],\n",
       "       [0.05405405],\n",
       "       [0.04826255],\n",
       "       [0.03281853],\n",
       "       [0.05984556],\n",
       "       [0.08494208],\n",
       "       [0.08494208],\n",
       "       [0.06177606],\n",
       "       [0.02895753],\n",
       "       [0.        ],\n",
       "       [0.02702703],\n",
       "       [0.02123552],\n",
       "       [0.04247104],\n",
       "       [0.07142857],\n",
       "       [0.05984556],\n",
       "       [0.04054054],\n",
       "       [0.08687259],\n",
       "       [0.12741313],\n",
       "       [0.12741313],\n",
       "       [0.1042471 ],\n",
       "       [0.05598456],\n",
       "       [0.01930502],\n",
       "       [0.06949807],\n",
       "       [0.07915058],\n",
       "       [0.08880309],\n",
       "       [0.14285714],\n",
       "       [0.11389961],\n",
       "       [0.13127413],\n",
       "       [0.14285714],\n",
       "       [0.18339768],\n",
       "       [0.18339768],\n",
       "       [0.15444015],\n",
       "       [0.11196911],\n",
       "       [0.08108108],\n",
       "       [0.11969112],\n",
       "       [0.12934363],\n",
       "       [0.14671815],\n",
       "       [0.17181467],\n",
       "       [0.14864865],\n",
       "       [0.15250965],\n",
       "       [0.22007722],\n",
       "       [0.24324324],\n",
       "       [0.26640927],\n",
       "       [0.2027027 ],\n",
       "       [0.16795367],\n",
       "       [0.13127413],\n",
       "       [0.17374517],\n",
       "       [0.17760618],\n",
       "       [0.17760618],\n",
       "       [0.25482625],\n",
       "       [0.25289575],\n",
       "       [0.24131274],\n",
       "       [0.26833977],\n",
       "       [0.30888031],\n",
       "       [0.32432432],\n",
       "       [0.25675676],\n",
       "       [0.20656371],\n",
       "       [0.14671815],\n",
       "       [0.18725869],\n",
       "       [0.19305019],\n",
       "       [0.16216216],\n",
       "       [0.25289575],\n",
       "       [0.23745174],\n",
       "       [0.25096525],\n",
       "       [0.30888031],\n",
       "       [0.38223938],\n",
       "       [0.36486486],\n",
       "       [0.2992278 ],\n",
       "       [0.24131274],\n",
       "       [0.19111969],\n",
       "       [0.24131274],\n",
       "       [0.26640927],\n",
       "       [0.24903475],\n",
       "       [0.31467181],\n",
       "       [0.31853282],\n",
       "       [0.32046332],\n",
       "       [0.40733591],\n",
       "       [0.5019305 ],\n",
       "       [0.46911197],\n",
       "       [0.4015444 ],\n",
       "       [0.32818533],\n",
       "       [0.25675676],\n",
       "       [0.33590734],\n",
       "       [0.34749035],\n",
       "       [0.33397683],\n",
       "       [0.41119691],\n",
       "       [0.4034749 ],\n",
       "       [0.41312741],\n",
       "       [0.52123552],\n",
       "       [0.5965251 ],\n",
       "       [0.58108108],\n",
       "       [0.48455598],\n",
       "       [0.38996139],\n",
       "       [0.32239382],\n",
       "       [0.38996139],\n",
       "       [0.40733591],\n",
       "       [0.38030888],\n",
       "       [0.48648649],\n",
       "       [0.47104247],\n",
       "       [0.48455598],\n",
       "       [0.61389961],\n",
       "       [0.6969112 ],\n",
       "       [0.7007722 ],\n",
       "       [0.57915058],\n",
       "       [0.46911197],\n",
       "       [0.38803089],\n",
       "       [0.44787645],\n",
       "       [0.45559846],\n",
       "       [0.41312741],\n",
       "       [0.4980695 ],\n",
       "       [0.47104247],\n",
       "       [0.5       ],\n",
       "       [0.63899614],\n",
       "       [0.74710425],\n",
       "       [0.77413127],\n",
       "       [0.57915058],\n",
       "       [0.49227799],\n",
       "       [0.3976834 ],\n",
       "       [0.44980695],\n",
       "       [0.49420849],\n",
       "       [0.45945946],\n",
       "       [0.58301158],\n",
       "       [0.56370656],\n",
       "       [0.61003861],\n",
       "       [0.71042471],\n",
       "       [0.85714286],\n",
       "       [0.87837838],\n",
       "       [0.69305019],\n",
       "       [0.58494208],\n",
       "       [0.4980695 ],\n",
       "       [0.58108108],\n",
       "       [0.6042471 ],\n",
       "       [0.55405405],\n",
       "       [0.60810811],\n",
       "       [0.68918919],\n",
       "       [0.71042471],\n",
       "       [0.83204633],\n",
       "       [1.        ],\n",
       "       [0.96911197],\n",
       "       [0.77992278],\n",
       "       [0.68918919],\n",
       "       [0.55212355],\n",
       "       [0.63320463]])"
      ]
     },
     "execution_count": 6,
     "metadata": {},
     "output_type": "execute_result"
    }
   ],
   "source": [
    "df"
   ]
  },
  {
   "cell_type": "markdown",
   "metadata": {},
   "source": [
    "## Creating train and test partition\n"
   ]
  },
  {
   "cell_type": "code",
   "execution_count": 11,
   "metadata": {},
   "outputs": [],
   "source": [
    "#Creating train and test partition\n",
    "train = int(len(df)*0.75)\n",
    "test = len(df)-train\n",
    "\n",
    "\n",
    "\n",
    "train_data,test_data=df[0:train,:],df[train:len(df),:1]"
   ]
  },
  {
   "cell_type": "markdown",
   "metadata": {},
   "source": [
    "## Converting an array of values into a dataset matrix\n"
   ]
  },
  {
   "cell_type": "code",
   "execution_count": 12,
   "metadata": {},
   "outputs": [],
   "source": [
    "# converting an array of values into a dataset matrix\n",
    "def create_dataset(dataset, time_step=1):\n",
    "    dataX, dataY = [], []\n",
    "    for i in range(len(dataset)-time_step-1):\n",
    "        a = dataset[i:(i+time_step), 0]   ###i=0, 0,1,2,3\n",
    "        dataX.append(a)\n",
    "        dataY.append(dataset[i + time_step, 0])\n",
    "    return np.array(dataX), np.array(dataY)"
   ]
  },
  {
   "cell_type": "code",
   "execution_count": 13,
   "metadata": {
    "collapsed": true
   },
   "outputs": [
    {
     "data": {
      "text/plain": [
       "array([0.03281853, 0.05984556, 0.08494208, 0.08494208, 0.06177606,\n",
       "       0.02895753, 0.        , 0.02702703, 0.02123552, 0.04247104,\n",
       "       0.07142857, 0.05984556, 0.04054054, 0.08687259, 0.12741313,\n",
       "       0.12741313, 0.1042471 , 0.05598456, 0.01930502, 0.06949807,\n",
       "       0.07915058, 0.08880309, 0.14285714, 0.11389961, 0.13127413,\n",
       "       0.14285714, 0.18339768, 0.18339768, 0.15444015, 0.11196911,\n",
       "       0.08108108, 0.11969112, 0.12934363, 0.14671815, 0.17181467,\n",
       "       0.14864865, 0.15250965, 0.22007722, 0.24324324, 0.26640927,\n",
       "       0.2027027 , 0.16795367, 0.13127413, 0.17374517, 0.17760618,\n",
       "       0.17760618, 0.25482625, 0.25289575, 0.24131274, 0.26833977,\n",
       "       0.30888031, 0.32432432, 0.25675676, 0.20656371, 0.14671815,\n",
       "       0.18725869, 0.19305019, 0.16216216, 0.25289575, 0.23745174,\n",
       "       0.25096525, 0.30888031, 0.38223938, 0.36486486, 0.2992278 ,\n",
       "       0.24131274, 0.19111969, 0.24131274, 0.26640927, 0.24903475,\n",
       "       0.31467181, 0.31853282, 0.32046332, 0.40733591, 0.5019305 ,\n",
       "       0.46911197, 0.4015444 , 0.32818533, 0.25675676, 0.33590734,\n",
       "       0.34749035, 0.33397683, 0.41119691, 0.4034749 , 0.41312741,\n",
       "       0.52123552, 0.5965251 , 0.58108108, 0.48455598, 0.38996139,\n",
       "       0.32239382, 0.38996139, 0.40733591, 0.38030888, 0.48648649,\n",
       "       0.47104247, 0.48455598, 0.61389961, 0.6969112 , 0.7007722 ,\n",
       "       0.57915058, 0.46911197, 0.38803089])"
      ]
     },
     "execution_count": 13,
     "metadata": {},
     "output_type": "execute_result"
    }
   ],
   "source": [
    "# reshape into X=t,t+1,t+2,t+3 and Y=t+4\n",
    "time_step = 4\n",
    "X_train, y_train = create_dataset(train_data, time_step)\n",
    "X_test, ytest = create_dataset(test_data, time_step)\n",
    "\n",
    "y_train"
   ]
  },
  {
   "cell_type": "code",
   "execution_count": 14,
   "metadata": {},
   "outputs": [
    {
     "data": {
      "text/plain": [
       "((103, 4), (103,))"
      ]
     },
     "execution_count": 14,
     "metadata": {},
     "output_type": "execute_result"
    }
   ],
   "source": [
    "X_train.shape, y_train.shape\n"
   ]
  },
  {
   "cell_type": "code",
   "execution_count": 15,
   "metadata": {},
   "outputs": [
    {
     "data": {
      "text/plain": [
       "(103, 4, 1)"
      ]
     },
     "execution_count": 15,
     "metadata": {},
     "output_type": "execute_result"
    }
   ],
   "source": [
    "# reshape input to be [sample, time steps, features] which is required for LSTM\n",
    "X_train =X_train.reshape(X_train.shape[0], 4, 1)\n",
    "X_test = X_test.reshape(X_test.shape[0], 4, 1)\n",
    "\n",
    "X_train.shape"
   ]
  },
  {
   "cell_type": "code",
   "execution_count": 16,
   "metadata": {},
   "outputs": [],
   "source": [
    "# !pip install numpy==1.19.5\n"
   ]
  },
  {
   "cell_type": "code",
   "execution_count": 17,
   "metadata": {
    "scrolled": true
   },
   "outputs": [
    {
     "name": "stdout",
     "output_type": "stream",
     "text": [
      "Epoch 1/100\n",
      "103/103 [==============================] - 8s 21ms/step - loss: 0.0163 - val_loss: 0.0347\n",
      "Epoch 2/100\n",
      "103/103 [==============================] - 1s 7ms/step - loss: 0.0103 - val_loss: 0.0306\n",
      "Epoch 3/100\n",
      "103/103 [==============================] - 1s 5ms/step - loss: 0.0076 - val_loss: 0.0326\n",
      "Epoch 4/100\n",
      "103/103 [==============================] - 1s 5ms/step - loss: 0.0091 - val_loss: 0.0309\n",
      "Epoch 5/100\n",
      "103/103 [==============================] - 1s 6ms/step - loss: 0.0079 - val_loss: 0.0263\n",
      "Epoch 6/100\n",
      "103/103 [==============================] - 1s 7ms/step - loss: 0.0068 - val_loss: 0.0260\n",
      "Epoch 7/100\n",
      "103/103 [==============================] - 1s 5ms/step - loss: 0.0070 - val_loss: 0.0318\n",
      "Epoch 8/100\n",
      "103/103 [==============================] - 1s 5ms/step - loss: 0.0061 - val_loss: 0.0259\n",
      "Epoch 9/100\n",
      "103/103 [==============================] - 1s 5ms/step - loss: 0.0069 - val_loss: 0.0255\n",
      "Epoch 10/100\n",
      "103/103 [==============================] - 1s 6ms/step - loss: 0.0063 - val_loss: 0.0217\n",
      "Epoch 11/100\n",
      "103/103 [==============================] - 1s 6ms/step - loss: 0.0066 - val_loss: 0.0353\n",
      "Epoch 12/100\n",
      "103/103 [==============================] - 1s 5ms/step - loss: 0.0058 - val_loss: 0.0186\n",
      "Epoch 13/100\n",
      "103/103 [==============================] - 1s 6ms/step - loss: 0.0061 - val_loss: 0.0257\n",
      "Epoch 14/100\n",
      "103/103 [==============================] - 1s 6ms/step - loss: 0.0049 - val_loss: 0.0169\n",
      "Epoch 15/100\n",
      "103/103 [==============================] - 1s 6ms/step - loss: 0.0043 - val_loss: 0.0144\n",
      "Epoch 16/100\n",
      "103/103 [==============================] - 1s 6ms/step - loss: 0.0040 - val_loss: 0.0171\n",
      "Epoch 17/100\n",
      "103/103 [==============================] - 1s 6ms/step - loss: 0.0038 - val_loss: 0.0189\n",
      "Epoch 18/100\n",
      "103/103 [==============================] - 1s 6ms/step - loss: 0.0035 - val_loss: 0.0185\n",
      "Epoch 19/100\n",
      "103/103 [==============================] - 1s 6ms/step - loss: 0.0039 - val_loss: 0.0205\n",
      "Epoch 20/100\n",
      "103/103 [==============================] - 1s 6ms/step - loss: 0.0027 - val_loss: 0.0117\n",
      "Epoch 21/100\n",
      "103/103 [==============================] - 1s 6ms/step - loss: 0.0033 - val_loss: 0.0068\n",
      "Epoch 22/100\n",
      "103/103 [==============================] - 1s 5ms/step - loss: 0.0027 - val_loss: 0.0065\n",
      "Epoch 23/100\n",
      "103/103 [==============================] - 1s 5ms/step - loss: 0.0025 - val_loss: 0.0119\n",
      "Epoch 24/100\n",
      "103/103 [==============================] - 1s 6ms/step - loss: 0.0024 - val_loss: 0.0151\n",
      "Epoch 25/100\n",
      "103/103 [==============================] - 1s 7ms/step - loss: 0.0023 - val_loss: 0.0074\n",
      "Epoch 26/100\n",
      "103/103 [==============================] - 1s 6ms/step - loss: 0.0023 - val_loss: 0.0108\n",
      "Epoch 27/100\n",
      "103/103 [==============================] - 1s 6ms/step - loss: 0.0022 - val_loss: 0.0077\n",
      "Epoch 28/100\n",
      "103/103 [==============================] - 1s 6ms/step - loss: 0.0023 - val_loss: 0.0174\n",
      "Epoch 29/100\n",
      "103/103 [==============================] - 1s 5ms/step - loss: 0.0022 - val_loss: 0.0158\n",
      "Epoch 30/100\n",
      "103/103 [==============================] - 1s 5ms/step - loss: 0.0023 - val_loss: 0.0139\n",
      "Epoch 31/100\n",
      "103/103 [==============================] - 1s 5ms/step - loss: 0.0023 - val_loss: 0.0106\n",
      "Epoch 32/100\n",
      "103/103 [==============================] - 1s 6ms/step - loss: 0.0024 - val_loss: 0.0130\n",
      "Epoch 33/100\n",
      "103/103 [==============================] - 1s 5ms/step - loss: 0.0025 - val_loss: 0.0103\n",
      "Epoch 34/100\n",
      "103/103 [==============================] - 1s 5ms/step - loss: 0.0023 - val_loss: 0.0118\n",
      "Epoch 35/100\n",
      "103/103 [==============================] - 1s 5ms/step - loss: 0.0024 - val_loss: 0.0077\n",
      "Epoch 36/100\n",
      "103/103 [==============================] - 1s 5ms/step - loss: 0.0022 - val_loss: 0.0132\n",
      "Epoch 37/100\n",
      "103/103 [==============================] - 1s 5ms/step - loss: 0.0023 - val_loss: 0.0089\n",
      "Epoch 38/100\n",
      "103/103 [==============================] - 1s 5ms/step - loss: 0.0022 - val_loss: 0.0100\n",
      "Epoch 39/100\n",
      "103/103 [==============================] - 1s 5ms/step - loss: 0.0021 - val_loss: 0.0092\n",
      "Epoch 40/100\n",
      "103/103 [==============================] - 1s 5ms/step - loss: 0.0023 - val_loss: 0.0127\n",
      "Epoch 41/100\n",
      "103/103 [==============================] - 1s 5ms/step - loss: 0.0022 - val_loss: 0.0131\n",
      "Epoch 42/100\n",
      "103/103 [==============================] - 1s 5ms/step - loss: 0.0022 - val_loss: 0.0077\n",
      "Epoch 43/100\n",
      "103/103 [==============================] - 1s 5ms/step - loss: 0.0023 - val_loss: 0.0074\n",
      "Epoch 44/100\n",
      "103/103 [==============================] - 1s 5ms/step - loss: 0.0024 - val_loss: 0.0095\n",
      "Epoch 45/100\n",
      "103/103 [==============================] - 1s 5ms/step - loss: 0.0021 - val_loss: 0.0074\n",
      "Epoch 46/100\n",
      "103/103 [==============================] - 1s 5ms/step - loss: 0.0026 - val_loss: 0.0075\n",
      "Epoch 47/100\n",
      "103/103 [==============================] - 1s 5ms/step - loss: 0.0022 - val_loss: 0.0141\n",
      "Epoch 48/100\n",
      "103/103 [==============================] - 1s 5ms/step - loss: 0.0027 - val_loss: 0.0153\n",
      "Epoch 49/100\n",
      "103/103 [==============================] - ETA: 0s - loss: 0.002 - 1s 5ms/step - loss: 0.0022 - val_loss: 0.0097\n",
      "Epoch 50/100\n",
      "103/103 [==============================] - 1s 5ms/step - loss: 0.0022 - val_loss: 0.0133\n",
      "Epoch 51/100\n",
      "103/103 [==============================] - 1s 5ms/step - loss: 0.0020 - val_loss: 0.0078\n",
      "Epoch 52/100\n",
      "103/103 [==============================] - 1s 5ms/step - loss: 0.0024 - val_loss: 0.0113\n",
      "Epoch 53/100\n",
      "103/103 [==============================] - 1s 6ms/step - loss: 0.0021 - val_loss: 0.0079\n",
      "Epoch 54/100\n",
      "103/103 [==============================] - 1s 5ms/step - loss: 0.0024 - val_loss: 0.0134\n",
      "Epoch 55/100\n",
      "103/103 [==============================] - 1s 6ms/step - loss: 0.0024 - val_loss: 0.0107\n",
      "Epoch 56/100\n",
      "103/103 [==============================] - 1s 6ms/step - loss: 0.0023 - val_loss: 0.0077\n",
      "Epoch 57/100\n",
      "103/103 [==============================] - 1s 5ms/step - loss: 0.0023 - val_loss: 0.0102\n",
      "Epoch 58/100\n",
      "103/103 [==============================] - 1s 5ms/step - loss: 0.0023 - val_loss: 0.0085\n",
      "Epoch 59/100\n",
      "103/103 [==============================] - 1s 5ms/step - loss: 0.0022 - val_loss: 0.0228\n",
      "Epoch 60/100\n",
      "103/103 [==============================] - 1s 5ms/step - loss: 0.0021 - val_loss: 0.0148\n",
      "Epoch 61/100\n",
      "103/103 [==============================] - 1s 5ms/step - loss: 0.0024 - val_loss: 0.0076\n",
      "Epoch 62/100\n",
      "103/103 [==============================] - 1s 5ms/step - loss: 0.0022 - val_loss: 0.0082\n",
      "Epoch 63/100\n",
      "103/103 [==============================] - 1s 5ms/step - loss: 0.0022 - val_loss: 0.0134\n",
      "Epoch 64/100\n",
      "103/103 [==============================] - 1s 5ms/step - loss: 0.0021 - val_loss: 0.0121\n",
      "Epoch 65/100\n",
      "103/103 [==============================] - 1s 5ms/step - loss: 0.0025 - val_loss: 0.0077\n",
      "Epoch 66/100\n",
      "103/103 [==============================] - 1s 5ms/step - loss: 0.0026 - val_loss: 0.0073\n",
      "Epoch 67/100\n",
      "103/103 [==============================] - 1s 5ms/step - loss: 0.0029 - val_loss: 0.0102\n",
      "Epoch 68/100\n",
      "103/103 [==============================] - 1s 5ms/step - loss: 0.0022 - val_loss: 0.0132\n",
      "Epoch 69/100\n",
      "103/103 [==============================] - 1s 5ms/step - loss: 0.0022 - val_loss: 0.0078\n",
      "Epoch 70/100\n",
      "103/103 [==============================] - 1s 5ms/step - loss: 0.0023 - val_loss: 0.0091\n",
      "Epoch 71/100\n",
      "103/103 [==============================] - 1s 5ms/step - loss: 0.0021 - val_loss: 0.0074\n",
      "Epoch 72/100\n",
      "103/103 [==============================] - 1s 5ms/step - loss: 0.0022 - val_loss: 0.0119\n",
      "Epoch 73/100\n",
      "103/103 [==============================] - 1s 5ms/step - loss: 0.0022 - val_loss: 0.0110\n",
      "Epoch 74/100\n",
      "103/103 [==============================] - 1s 5ms/step - loss: 0.0025 - val_loss: 0.0134\n",
      "Epoch 75/100\n",
      "103/103 [==============================] - 1s 5ms/step - loss: 0.0022 - val_loss: 0.0098\n",
      "Epoch 76/100\n",
      "103/103 [==============================] - 1s 5ms/step - loss: 0.0023 - val_loss: 0.0090\n",
      "Epoch 77/100\n",
      "103/103 [==============================] - 1s 5ms/step - loss: 0.0024 - val_loss: 0.0093\n",
      "Epoch 78/100\n",
      "103/103 [==============================] - 1s 5ms/step - loss: 0.0025 - val_loss: 0.0096\n",
      "Epoch 79/100\n",
      "103/103 [==============================] - 1s 5ms/step - loss: 0.0025 - val_loss: 0.0182\n",
      "Epoch 80/100\n",
      "103/103 [==============================] - 1s 5ms/step - loss: 0.0020 - val_loss: 0.0076\n",
      "Epoch 81/100\n"
     ]
    },
    {
     "name": "stdout",
     "output_type": "stream",
     "text": [
      "103/103 [==============================] - 1s 5ms/step - loss: 0.0021 - val_loss: 0.0199\n",
      "Epoch 82/100\n",
      "103/103 [==============================] - 1s 5ms/step - loss: 0.0021 - val_loss: 0.0081\n",
      "Epoch 83/100\n",
      "103/103 [==============================] - 1s 5ms/step - loss: 0.0021 - val_loss: 0.0096\n",
      "Epoch 84/100\n",
      "103/103 [==============================] - 1s 5ms/step - loss: 0.0021 - val_loss: 0.0108\n",
      "Epoch 85/100\n",
      "103/103 [==============================] - 1s 5ms/step - loss: 0.0022 - val_loss: 0.0126\n",
      "Epoch 86/100\n",
      "103/103 [==============================] - 1s 5ms/step - loss: 0.0023 - val_loss: 0.0070\n",
      "Epoch 87/100\n",
      "103/103 [==============================] - 1s 6ms/step - loss: 0.0023 - val_loss: 0.0116\n",
      "Epoch 88/100\n",
      "103/103 [==============================] - 1s 5ms/step - loss: 0.0021 - val_loss: 0.0089\n",
      "Epoch 89/100\n",
      "103/103 [==============================] - 1s 5ms/step - loss: 0.0023 - val_loss: 0.0081\n",
      "Epoch 90/100\n",
      "103/103 [==============================] - 1s 5ms/step - loss: 0.0024 - val_loss: 0.0080\n",
      "Epoch 91/100\n",
      "103/103 [==============================] - 1s 5ms/step - loss: 0.0020 - val_loss: 0.0077\n",
      "Epoch 92/100\n",
      "103/103 [==============================] - 1s 5ms/step - loss: 0.0025 - val_loss: 0.0075\n",
      "Epoch 93/100\n",
      "103/103 [==============================] - 1s 5ms/step - loss: 0.0022 - val_loss: 0.0115\n",
      "Epoch 94/100\n",
      "103/103 [==============================] - 1s 5ms/step - loss: 0.0022 - val_loss: 0.0128\n",
      "Epoch 95/100\n",
      "103/103 [==============================] - 1s 5ms/step - loss: 0.0022 - val_loss: 0.0089\n",
      "Epoch 96/100\n",
      "103/103 [==============================] - 1s 5ms/step - loss: 0.0021 - val_loss: 0.0138\n",
      "Epoch 97/100\n",
      "103/103 [==============================] - 1s 5ms/step - loss: 0.0022 - val_loss: 0.0107\n",
      "Epoch 98/100\n",
      "103/103 [==============================] - 1s 5ms/step - loss: 0.0022 - val_loss: 0.0088\n",
      "Epoch 99/100\n",
      "103/103 [==============================] - 1s 5ms/step - loss: 0.0023 - val_loss: 0.0101\n",
      "Epoch 100/100\n",
      "103/103 [==============================] - 1s 5ms/step - loss: 0.0021 - val_loss: 0.0140\n"
     ]
    },
    {
     "data": {
      "text/plain": [
       "<tensorflow.python.keras.callbacks.History at 0x29ad22d9a30>"
      ]
     },
     "execution_count": 17,
     "metadata": {},
     "output_type": "execute_result"
    }
   ],
   "source": [
    "### Create the LSTM model\n",
    "from tensorflow.keras.models import Sequential\n",
    "from tensorflow.keras.layers import Dense\n",
    "from tensorflow.keras.layers import LSTM\n",
    "\n",
    "model=Sequential()\n",
    "model.add(LSTM(50,return_sequences=True,input_shape=(4,1)))\n",
    "model.add(LSTM(50))\n",
    "model.add(Dense(1))\n",
    "model.compile(loss='mean_squared_error',optimizer='adam')\n",
    "model.fit(X_train,y_train,validation_data=(X_test,ytest),epochs=100,batch_size=1,verbose=1)"
   ]
  },
  {
   "cell_type": "code",
   "execution_count": 18,
   "metadata": {
    "collapsed": true
   },
   "outputs": [
    {
     "data": {
      "text/plain": [
       "array([[0.4070034 ],\n",
       "       [0.519735  ],\n",
       "       [0.6940853 ],\n",
       "       [0.71197647],\n",
       "       [0.6634201 ],\n",
       "       [0.32341808],\n",
       "       [0.48284644],\n",
       "       [0.33441317],\n",
       "       [0.49173644],\n",
       "       [0.4853832 ],\n",
       "       [0.41410682],\n",
       "       [0.65865475],\n",
       "       [0.45864195],\n",
       "       [0.6323299 ],\n",
       "       [0.70634514],\n",
       "       [0.8411617 ],\n",
       "       [0.65684456],\n",
       "       [0.39483145],\n",
       "       [0.51821834],\n",
       "       [0.40695226],\n",
       "       [0.6275527 ],\n",
       "       [0.5319257 ],\n",
       "       [0.47597757],\n",
       "       [0.631723  ],\n",
       "       [0.6624207 ],\n",
       "       [0.61342186],\n",
       "       [0.846665  ],\n",
       "       [0.9093832 ],\n",
       "       [0.57932556],\n",
       "       [0.46864566],\n",
       "       [0.5749304 ]], dtype=float32)"
      ]
     },
     "execution_count": 18,
     "metadata": {},
     "output_type": "execute_result"
    }
   ],
   "source": [
    "#Model Prediction\n",
    "train_predict=model.predict(X_train)\n",
    "test_predict=model.predict(X_test)\n",
    "\n",
    "test_predict"
   ]
  },
  {
   "cell_type": "code",
   "execution_count": 19,
   "metadata": {
    "collapsed": true
   },
   "outputs": [
    {
     "data": {
      "text/plain": [
       "array([[314.8278 ],\n",
       "       [373.22272],\n",
       "       [463.5362 ],\n",
       "       [472.80383],\n",
       "       [447.6516 ],\n",
       "       [271.53058],\n",
       "       [354.11447],\n",
       "       [277.22604],\n",
       "       [358.71948],\n",
       "       [355.42853],\n",
       "       [318.50732],\n",
       "       [445.18317],\n",
       "       [341.57654],\n",
       "       [431.5469 ],\n",
       "       [469.8868 ],\n",
       "       [539.72174],\n",
       "       [444.24548],\n",
       "       [308.52267],\n",
       "       [372.4371 ],\n",
       "       [314.80127],\n",
       "       [429.0723 ],\n",
       "       [379.5375 ],\n",
       "       [350.55637],\n",
       "       [431.2325 ],\n",
       "       [447.13394],\n",
       "       [421.75253],\n",
       "       [542.57245],\n",
       "       [575.0605 ],\n",
       "       [404.09064],\n",
       "       [346.75845],\n",
       "       [401.81396]], dtype=float32)"
      ]
     },
     "execution_count": 19,
     "metadata": {},
     "output_type": "execute_result"
    }
   ],
   "source": [
    "#Transforming data back to original form\n",
    "train_predict=scaler.inverse_transform(train_predict)\n",
    "test_predict=scaler.inverse_transform(test_predict)\n",
    "\n",
    "test_predict"
   ]
  },
  {
   "cell_type": "code",
   "execution_count": 22,
   "metadata": {},
   "outputs": [
    {
     "data": {
      "text/plain": [
       "245.54212075888154"
      ]
     },
     "execution_count": 22,
     "metadata": {},
     "output_type": "execute_result"
    }
   ],
   "source": [
    "## Calculate RMSE performance metrics\n",
    "from sklearn.metrics import mean_squared_error\n",
    "import math\n",
    "\n",
    "math.sqrt(mean_squared_error(y_train,train_predict))"
   ]
  },
  {
   "cell_type": "code",
   "execution_count": 23,
   "metadata": {},
   "outputs": [
    {
     "ename": "NameError",
     "evalue": "name 'data' is not defined",
     "output_type": "error",
     "traceback": [
      "\u001b[1;31m---------------------------------------------------------------------------\u001b[0m",
      "\u001b[1;31mNameError\u001b[0m                                 Traceback (most recent call last)",
      "\u001b[1;32m<ipython-input-23-cc01ffc5e1a2>\u001b[0m in \u001b[0;36m<module>\u001b[1;34m\u001b[0m\n\u001b[0;32m      3\u001b[0m \u001b[1;31m# shift train predictions for plotting\u001b[0m\u001b[1;33m\u001b[0m\u001b[1;33m\u001b[0m\u001b[1;33m\u001b[0m\u001b[0m\n\u001b[0;32m      4\u001b[0m \u001b[0mlook_back\u001b[0m\u001b[1;33m=\u001b[0m\u001b[1;36m4\u001b[0m\u001b[1;33m\u001b[0m\u001b[1;33m\u001b[0m\u001b[0m\n\u001b[1;32m----> 5\u001b[1;33m \u001b[0mtrainPredictPlot\u001b[0m \u001b[1;33m=\u001b[0m \u001b[0mnp\u001b[0m\u001b[1;33m.\u001b[0m\u001b[0mempty_like\u001b[0m\u001b[1;33m(\u001b[0m\u001b[0mdata\u001b[0m\u001b[1;33m)\u001b[0m\u001b[1;33m\u001b[0m\u001b[1;33m\u001b[0m\u001b[0m\n\u001b[0m\u001b[0;32m      6\u001b[0m \u001b[0mtrainPredictPlot\u001b[0m\u001b[1;33m[\u001b[0m\u001b[1;33m:\u001b[0m\u001b[1;33m,\u001b[0m \u001b[1;33m:\u001b[0m\u001b[1;33m]\u001b[0m \u001b[1;33m=\u001b[0m \u001b[0mnp\u001b[0m\u001b[1;33m.\u001b[0m\u001b[0mnan\u001b[0m\u001b[1;33m\u001b[0m\u001b[1;33m\u001b[0m\u001b[0m\n\u001b[0;32m      7\u001b[0m \u001b[0mtrainPredictPlot\u001b[0m\u001b[1;33m[\u001b[0m\u001b[0mlook_back\u001b[0m\u001b[1;33m:\u001b[0m\u001b[0mlen\u001b[0m\u001b[1;33m(\u001b[0m\u001b[0mtrain_predict\u001b[0m\u001b[1;33m)\u001b[0m\u001b[1;33m+\u001b[0m\u001b[0mlook_back\u001b[0m\u001b[1;33m,\u001b[0m \u001b[1;33m:\u001b[0m\u001b[1;33m]\u001b[0m \u001b[1;33m=\u001b[0m \u001b[0mtrain_predict\u001b[0m\u001b[1;33m\u001b[0m\u001b[1;33m\u001b[0m\u001b[0m\n",
      "\u001b[1;31mNameError\u001b[0m: name 'data' is not defined"
     ]
    }
   ],
   "source": [
    "452.56696011597353\n",
    "### Plotting \n",
    "# shift train predictions for plotting\n",
    "look_back=4\n",
    "trainPredictPlot = np.empty_like(data)\n",
    "trainPredictPlot[:, :] = np.nan\n",
    "trainPredictPlot[look_back:len(train_predict)+look_back, :] = train_predict\n",
    "# shift test predictions for plotting\n",
    "testPredictPlot = np.empty_like(data)\n",
    "testPredictPlot[:, :] = np.nan\n",
    "testPredictPlot[len(train_predict)+(look_back*2)+1:len(data)-1, :] = test_predict\n",
    "# plot baseline and predictions\n",
    "plt.xlabel(\"Month\")\n",
    "plt.ylabel(\"Passengers\")\n",
    "plt.title(\"Passengers Travelled\")\n",
    "plt.plot(scaler.inverse_transform(data)) #original data\n",
    "plt.plot(testPredictPlot) #test prediction\n",
    "plt.show()"
   ]
  },
  {
   "cell_type": "code",
   "execution_count": null,
   "metadata": {},
   "outputs": [],
   "source": []
  }
 ],
 "metadata": {
  "kernelspec": {
   "display_name": "Python 3",
   "language": "python",
   "name": "python3"
  },
  "language_info": {
   "codemirror_mode": {
    "name": "ipython",
    "version": 3
   },
   "file_extension": ".py",
   "mimetype": "text/x-python",
   "name": "python",
   "nbconvert_exporter": "python",
   "pygments_lexer": "ipython3",
   "version": "3.8.5"
  }
 },
 "nbformat": 4,
 "nbformat_minor": 4
}
